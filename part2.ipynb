{
 "cells": [
  {
   "cell_type": "code",
   "execution_count": 1,
   "metadata": {},
   "outputs": [],
   "source": [
    "import pandas as pd\n",
    "import numpy as np\n",
    "import matplotlib.pyplot as plt\n",
    "from sklearn.model_selection import train_test_split\n",
    "from sklearn.preprocessing import MinMaxScaler\n",
    "from tensorflow.keras import Sequential\n",
    "from tensorflow.keras.layers import Dense, Conv2D, MaxPool2D, Flatten, Dropout, BatchNormalization\n",
    "from tensorflow.keras.optimizers import Adam,SGD,Adagrad,Adadelta,RMSprop\n",
    "from tensorflow.keras.utils import to_categorical\n",
    "from tensorflow.keras.callbacks import ReduceLROnPlateau\n",
    "%matplotlib inline"
   ]
  },
  {
   "cell_type": "code",
   "execution_count": 2,
   "metadata": {},
   "outputs": [],
   "source": [
    "df = pd.read_csv('train.csv').drop(columns=['Id'])\n",
    "X_train, X_test, y_train, y_test = train_test_split(MinMaxScaler().fit_transform(df.iloc[:,1:]).reshape((-1, 28, 28, 1)), to_categorical(df.iloc[:,0], num_classes=5), test_size=0.2, random_state=42)"
   ]
  },
  {
   "cell_type": "code",
   "execution_count": 3,
   "metadata": {},
   "outputs": [],
   "source": [
    "model = Sequential([\n",
    "    Conv2D(filters=32, kernel_size=(3, 3), activation='relu', padding='same', input_shape=(28,28,1)),\n",
    "    BatchNormalization(),\n",
    "    Conv2D(filters=32, kernel_size=(3, 3), activation='relu', padding='same'),\n",
    "    BatchNormalization(),\n",
    "    Dropout(0.25),\n",
    "    Conv2D(filters=64, kernel_size=(3, 3), activation='relu', padding='same'),\n",
    "    MaxPool2D(pool_size=(2, 2)),\n",
    "    Dropout(0.25),\n",
    "    Conv2D(filters=128, kernel_size=(3, 3), activation='relu', padding='same'),\n",
    "    BatchNormalization(),\n",
    "    Dropout(0.25),\n",
    "    Flatten(),\n",
    "    Dense(512, activation='relu'),\n",
    "    BatchNormalization(),\n",
    "    Dropout(0.5),\n",
    "    Dense(128, activation='relu'),\n",
    "    BatchNormalization(),\n",
    "    Dropout(0.5),\n",
    "    Dense(5, activation='softmax')\n",
    "])\n",
    "model.compile(optimizer=Adam(lr=0.001, beta_1=0.9, beta_2=0.999), loss=\"categorical_crossentropy\", metrics=[\"accuracy\"])"
   ]
  },
  {
   "cell_type": "code",
   "execution_count": 27,
   "metadata": {},
   "outputs": [
    {
     "name": "stdout",
     "output_type": "stream",
     "text": [
      "Train on 48000 samples\n",
      "Epoch 1/40\n",
      "48000/48000 [==============================] - 132s 3ms/sample - loss: 0.6679 - accuracy: 0.7374\n",
      "Epoch 2/40\n",
      "48000/48000 [==============================] - 130s 3ms/sample - loss: 0.4687 - accuracy: 0.8116\n",
      "Epoch 3/40\n",
      "48000/48000 [==============================] - 130s 3ms/sample - loss: 0.4230 - accuracy: 0.8280\n",
      "Epoch 4/40\n",
      "48000/48000 [==============================] - 129s 3ms/sample - loss: 0.3994 - accuracy: 0.8399\n",
      "Epoch 5/40\n",
      "48000/48000 [==============================] - 128s 3ms/sample - loss: 0.3731 - accuracy: 0.8517\n",
      "Epoch 6/40\n",
      "48000/48000 [==============================] - 127s 3ms/sample - loss: 0.3580 - accuracy: 0.8567\n",
      "Epoch 7/40\n",
      "48000/48000 [==============================] - 129s 3ms/sample - loss: 0.3305 - accuracy: 0.8681\n",
      "Epoch 8/40\n",
      "48000/48000 [==============================] - 128s 3ms/sample - loss: 0.3243 - accuracy: 0.8707\n",
      "Epoch 9/40\n",
      "48000/48000 [==============================] - 131s 3ms/sample - loss: 0.3063 - accuracy: 0.8786\n",
      "Epoch 10/40\n",
      "48000/48000 [==============================] - 129s 3ms/sample - loss: 0.2973 - accuracy: 0.8808\n",
      "Epoch 11/40\n",
      "48000/48000 [==============================] - 128s 3ms/sample - loss: 0.2834 - accuracy: 0.8889\n",
      "Epoch 12/40\n",
      "48000/48000 [==============================] - 126s 3ms/sample - loss: 0.2717 - accuracy: 0.8933\n",
      "Epoch 13/40\n",
      "48000/48000 [==============================] - 129s 3ms/sample - loss: 0.2627 - accuracy: 0.8974\n",
      "Epoch 14/40\n",
      "48000/48000 [==============================] - 130s 3ms/sample - loss: 0.2498 - accuracy: 0.9008\n",
      "Epoch 15/40\n",
      "48000/48000 [==============================] - 129s 3ms/sample - loss: 0.2390 - accuracy: 0.9065\n",
      "Epoch 16/40\n",
      "48000/48000 [==============================] - 129s 3ms/sample - loss: 0.2288 - accuracy: 0.9114\n",
      "Epoch 17/40\n",
      "48000/48000 [==============================] - 129s 3ms/sample - loss: 0.2202 - accuracy: 0.9127\n",
      "Epoch 18/40\n",
      "48000/48000 [==============================] - 126s 3ms/sample - loss: 0.2033 - accuracy: 0.9207\n",
      "Epoch 19/40\n",
      "48000/48000 [==============================] - 129s 3ms/sample - loss: 0.1967 - accuracy: 0.9243\n",
      "Epoch 20/40\n",
      "48000/48000 [==============================] - 127s 3ms/sample - loss: 0.1826 - accuracy: 0.9298\n",
      "Epoch 21/40\n",
      "48000/48000 [==============================] - 128s 3ms/sample - loss: 0.1802 - accuracy: 0.9310\n",
      "Epoch 22/40\n",
      "48000/48000 [==============================] - 126s 3ms/sample - loss: 0.1657 - accuracy: 0.9358\n",
      "Epoch 23/40\n",
      "48000/48000 [==============================] - 127s 3ms/sample - loss: 0.1664 - accuracy: 0.9357\n",
      "Epoch 24/40\n",
      "48000/48000 [==============================] - 129s 3ms/sample - loss: 0.1581 - accuracy: 0.9399\n",
      "Epoch 25/40\n",
      "48000/48000 [==============================] - 127s 3ms/sample - loss: 0.1482 - accuracy: 0.9431\n",
      "Epoch 26/40\n",
      "48000/48000 [==============================] - 127s 3ms/sample - loss: 0.1364 - accuracy: 0.9490\n",
      "Epoch 27/40\n",
      "48000/48000 [==============================] - 126s 3ms/sample - loss: 0.1398 - accuracy: 0.9472\n",
      "Epoch 28/40\n",
      "48000/48000 [==============================] - 126s 3ms/sample - loss: 0.1322 - accuracy: 0.9500\n",
      "Epoch 29/40\n",
      "48000/48000 [==============================] - 130s 3ms/sample - loss: 0.1271 - accuracy: 0.9526\n",
      "Epoch 30/40\n",
      "48000/48000 [==============================] - 128s 3ms/sample - loss: 0.1198 - accuracy: 0.9568\n",
      "Epoch 31/40\n",
      "48000/48000 [==============================] - 124s 3ms/sample - loss: 0.1190 - accuracy: 0.9558\n",
      "Epoch 32/40\n",
      "48000/48000 [==============================] - 127s 3ms/sample - loss: 0.1103 - accuracy: 0.9583\n",
      "Epoch 33/40\n",
      "48000/48000 [==============================] - 126s 3ms/sample - loss: 0.1145 - accuracy: 0.9571\n",
      "Epoch 34/40\n",
      "48000/48000 [==============================] - 129s 3ms/sample - loss: 0.1091 - accuracy: 0.9604\n",
      "Epoch 35/40\n",
      "48000/48000 [==============================] - 129s 3ms/sample - loss: 0.1024 - accuracy: 0.9620\n",
      "Epoch 36/40\n",
      "48000/48000 [==============================] - 127s 3ms/sample - loss: 0.0989 - accuracy: 0.9639\n",
      "Epoch 37/40\n",
      "48000/48000 [==============================] - 129s 3ms/sample - loss: 0.0945 - accuracy: 0.9658\n",
      "Epoch 38/40\n",
      "48000/48000 [==============================] - 127s 3ms/sample - loss: 0.0979 - accuracy: 0.9645\n",
      "Epoch 39/40\n",
      "48000/48000 [==============================] - 129s 3ms/sample - loss: 0.0908 - accuracy: 0.9669\n",
      "Epoch 40/40\n",
      "48000/48000 [==============================] - 131s 3ms/sample - loss: 0.0860 - accuracy: 0.9679\n",
      "12000/12000 [==============================] - 12s 969us/sample - loss: 0.4013 - accuracy: 0.8817\n",
      "Accuracy: 0.882\n"
     ]
    }
   ],
   "source": [
    "model.fit(x_train, y_train, epochs=40, batch_size=128)\n",
    "loss, acc = model.evaluate(x_test, y_test)\n",
    "print('Accuracy: %.3f' % acc)"
   ]
  },
  {
   "cell_type": "code",
   "execution_count": null,
   "metadata": {},
   "outputs": [
    {
     "name": "stdout",
     "output_type": "stream",
     "text": [
      "WARNING:tensorflow:sample_weight modes were coerced from\n",
      "  ...\n",
      "    to  \n",
      "  ['...']\n"
     ]
    },
    {
     "name": "stderr",
     "output_type": "stream",
     "text": [
      "Using TensorFlow backend.\n"
     ]
    },
    {
     "name": "stdout",
     "output_type": "stream",
     "text": [
      "Train for 375 steps, validate on 12000 samples\n",
      "Epoch 1/40\n",
      "375/375 [==============================] - 143s 381ms/step - loss: 0.9044 - accuracy: 0.6450 - val_loss: 2.5207 - val_accuracy: 0.3110\n",
      "Epoch 2/40\n",
      " 71/375 [====>.........................] - ETA: 1:49 - loss: 0.6805 - accuracy: 0.7194"
     ]
    }
   ],
   "source": [
    "from keras.preprocessing.image import ImageDataGenerator\n",
    "datagen = ImageDataGenerator(rotation_range = 8, zoom_range = 0.1, shear_range = 0.3, width_shift_range=0.08, height_shift_range=0.08, vertical_flip=True)\n",
    "reduce_lr = ReduceLROnPlateau(monitor='val_loss', factor=0.2, patience=5, min_lr=0.001)\n",
    "history = model.fit(datagen.flow(X_train, y_train, batch_size = 128), epochs = 40, validation_data = (X_test, y_test), steps_per_epoch=X_train.shape[0] // 128, callbacks = [reduce_lr])\n",
    "score = model.evaluate(X_test, y_test)\n",
    "\n",
    "print('Loss: {:.4f}'.format(score[0]))\n",
    "print('Accuracy: {:.4f}'.format(score[1]))"
   ]
  },
  {
   "cell_type": "code",
   "execution_count": null,
   "metadata": {},
   "outputs": [],
   "source": []
  }
 ],
 "metadata": {
  "kernelspec": {
   "display_name": "Python 3",
   "language": "python",
   "name": "python3"
  },
  "language_info": {
   "codemirror_mode": {
    "name": "ipython",
    "version": 3
   },
   "file_extension": ".py",
   "mimetype": "text/x-python",
   "name": "python",
   "nbconvert_exporter": "python",
   "pygments_lexer": "ipython3",
   "version": "3.5.2"
  }
 },
 "nbformat": 4,
 "nbformat_minor": 4
}
