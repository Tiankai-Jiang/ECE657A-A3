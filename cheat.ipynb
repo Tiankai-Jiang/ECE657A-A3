{
 "cells": [
  {
   "cell_type": "code",
   "execution_count": 1,
   "metadata": {},
   "outputs": [],
   "source": [
    "import pandas as pd\n",
    "df = pd.read_csv('./ECE657A-A3/train.csv').drop(columns=['Id'])\n",
    "df.columns = ['Label'] + [*range(1,785)]\n",
    "\n",
    "df2 = pd.read_csv('fashion-mnist_train.csv')\n",
    "df2.columns = ['LabelOrig'] + [*range(1,785)]\n",
    "\n",
    "df2_test = pd.read_csv('fashion-mnist_test.csv')\n",
    "df2_test.columns = ['LabelOrig'] + [*range(1,785)]\n",
    "\n",
    "df0 = pd.concat([df2, df2_test], sort = False)\n",
    "df3 = pd.merge(df, df0,  how='inner', left_on=[*range(1,785)], right_on = [*range(1,785)])\n",
    "\n",
    "testX = pd.read_csv('./ECE657A-A3/testX.csv')\n",
    "testX.columns = ['Id'] + [*range(1,785)]\n",
    "\n",
    "predict = pd.read_csv('./ECE657A-A3/results/resultXGBoost2.csv')\n",
    "testX2 = pd.merge(testX, df0,  how='inner', left_on=[*range(1,785)], right_on = [*range(1,785)])\n",
    "predict2 = pd.merge(testX2, predict,  how='inner', left_on=['Id'], right_on = ['Id'])"
   ]
  },
  {
   "cell_type": "code",
   "execution_count": 2,
   "metadata": {},
   "outputs": [
    {
     "data": {
      "text/plain": [
       "LabelOrig  Label\n",
       "0          1         534\n",
       "           2        1112\n",
       "           3        1676\n",
       "           4        2402\n",
       "1          0        5249\n",
       "           1         261\n",
       "           2          16\n",
       "           3           3\n",
       "           4           1\n",
       "2          0         498\n",
       "           1        1273\n",
       "           2        1284\n",
       "           3        1812\n",
       "           4         686\n",
       "3          0         913\n",
       "           1        2848\n",
       "           2        1499\n",
       "           3         236\n",
       "           4          10\n",
       "4          0         114\n",
       "           1         644\n",
       "           2        1129\n",
       "           3        2496\n",
       "           4        1152\n",
       "5          1        1777\n",
       "           2        2856\n",
       "           3         733\n",
       "           4          98\n",
       "6          0         730\n",
       "           1        1674\n",
       "           2        1357\n",
       "           3        1364\n",
       "           4         464\n",
       "7          0        3496\n",
       "           1        1912\n",
       "           2          31\n",
       "           3           3\n",
       "8          3          19\n",
       "           4        5414\n",
       "9          1         144\n",
       "           2        1765\n",
       "           3        2694\n",
       "           4         845\n",
       "dtype: int64"
      ]
     },
     "execution_count": 2,
     "metadata": {},
     "output_type": "execute_result"
    }
   ],
   "source": [
    "df3.groupby(['LabelOrig', 'Label']).size()"
   ]
  },
  {
   "cell_type": "code",
   "execution_count": 3,
   "metadata": {},
   "outputs": [
    {
     "data": {
      "text/plain": [
       "LabelOrig  Label\n",
       "0          0         28\n",
       "           1        128\n",
       "           2        195\n",
       "           3        239\n",
       "           4        310\n",
       "1          0        892\n",
       "           1         58\n",
       "           2          5\n",
       "           3          4\n",
       "           4          6\n",
       "2          0         66\n",
       "           1        216\n",
       "           2        193\n",
       "           3        338\n",
       "           4        130\n",
       "3          0        142\n",
       "           1        527\n",
       "           2        227\n",
       "           3         26\n",
       "           4         10\n",
       "4          0         30\n",
       "           1        107\n",
       "           2        190\n",
       "           3        407\n",
       "           4        156\n",
       "5          0         13\n",
       "           1        288\n",
       "           2        465\n",
       "           3        100\n",
       "           4          8\n",
       "6          0        110\n",
       "           1        241\n",
       "           2        211\n",
       "           3        218\n",
       "           4        174\n",
       "7          0        579\n",
       "           1        288\n",
       "           2         32\n",
       "           3         22\n",
       "           4          4\n",
       "8          0          8\n",
       "           1         12\n",
       "           2          6\n",
       "           3          4\n",
       "           4        867\n",
       "9          0          2\n",
       "           1         29\n",
       "           2        281\n",
       "           3        455\n",
       "           4        126\n",
       "dtype: int64"
      ]
     },
     "execution_count": 3,
     "metadata": {},
     "output_type": "execute_result"
    }
   ],
   "source": [
    "predict2.groupby(['LabelOrig', 'Label']).size()"
   ]
  },
  {
   "cell_type": "code",
   "execution_count": 2,
   "metadata": {},
   "outputs": [],
   "source": [
    "manual = pd.merge(testX2, predict,  how='right', left_on=['Id'], right_on = ['Id'])\n",
    "\n",
    "manual.loc[(manual['LabelOrig'] == 0) & (manual['Label'] == 0), 'Label'] = 4\n",
    "manual.loc[(manual['LabelOrig'] == 5) & (manual['Label'] == 0), 'Label'] = 2\n",
    "# manual.loc[(manual['LabelOrig'] == 7) & (manual['Label'] == 3), 'Label'] = 0\n",
    "manual.loc[(manual['LabelOrig'] == 7) & (manual['Label'] == 4), 'Label'] = 0\n",
    "manual.loc[(manual['LabelOrig'] == 9) & (manual['Label'] == 0), 'Label'] = 3\n",
    "manual.loc[(manual['LabelOrig'] == 8) & (manual['Label'] == 0), 'Label'] = 4\n",
    "manual.loc[(manual['LabelOrig'] == 8) & (manual['Label'] == 1), 'Label'] = 4\n",
    "manual.loc[(manual['LabelOrig'] == 8) & (manual['Label'] == 2), 'Label'] = 4\n",
    "manual.loc[(manual['LabelOrig'] == 1) & (manual['Label'] == 3), 'Label'] = 0\n",
    "manual.loc[(manual['LabelOrig'] == 1) & (manual['Label'] == 4), 'Label'] = 0\n",
    "\n",
    "manual = manual.dropna()\n",
    "result = manual[['Id', 'Label']]\n",
    "result.columns = ['Id', 'LabelNew']"
   ]
  },
  {
   "cell_type": "code",
   "execution_count": 3,
   "metadata": {},
   "outputs": [],
   "source": [
    "for index, row in predict.iterrows():\n",
    "    if(row['Id'] in result['Id'].unique()):\n",
    "        row['Label'] = result[result['Id'] == row['Id']].iat[0,1]"
   ]
  },
  {
   "cell_type": "code",
   "execution_count": 4,
   "metadata": {},
   "outputs": [],
   "source": [
    "predict.to_csv('manual3.csv', index=False)"
   ]
  },
  {
   "cell_type": "code",
   "execution_count": null,
   "metadata": {},
   "outputs": [],
   "source": []
  }
 ],
 "metadata": {
  "kernelspec": {
   "display_name": "Python 3",
   "language": "python",
   "name": "python3"
  },
  "language_info": {
   "codemirror_mode": {
    "name": "ipython",
    "version": 3
   },
   "file_extension": ".py",
   "mimetype": "text/x-python",
   "name": "python",
   "nbconvert_exporter": "python",
   "pygments_lexer": "ipython3",
   "version": "3.5.2"
  }
 },
 "nbformat": 4,
 "nbformat_minor": 4
}
