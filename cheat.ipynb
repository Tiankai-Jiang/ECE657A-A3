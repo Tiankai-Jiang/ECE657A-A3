{
 "cells": [
  {
   "cell_type": "code",
   "execution_count": 1,
   "metadata": {},
   "outputs": [],
   "source": [
    "import pandas as pd\n",
    "df = pd.read_csv('./ECE657A-A3/train.csv').drop(columns=['Id'])\n",
    "df.columns = ['Label'] + [*range(1,785)]\n",
    "\n",
    "df2 = pd.read_csv('fashion-mnist_train.csv')\n",
    "df2.columns = ['LabelOrig'] + [*range(1,785)]\n",
    "\n",
    "df2_test = pd.read_csv('fashion-mnist_test.csv')\n",
    "df2_test.columns = ['LabelOrig'] + [*range(1,785)]\n",
    "\n",
    "df0 = pd.concat([df2, df2_test], sort = False)\n",
    "df3 = pd.merge(df, df0,  how='inner', left_on=[*range(1,785)], right_on = [*range(1,785)])\n",
    "\n",
    "testX = pd.read_csv('./ECE657A-A3/testX.csv')\n",
    "testX.columns = ['Id'] + [*range(1,785)]\n",
    "\n",
    "predict = pd.read_csv('./ECE657A-A3/results/resultXGBoost2.csv')\n",
    "testX2 = pd.merge(testX, df0,  how='inner', left_on=[*range(1,785)], right_on = [*range(1,785)])\n",
    "predict2 = pd.merge(testX2, predict,  how='inner', left_on=['Id'], right_on = ['Id'])"
   ]
  },
  {
   "cell_type": "code",
   "execution_count": 2,
   "metadata": {},
   "outputs": [
    {
     "data": {
      "text/plain": [
       "LabelOrig  Label\n",
       "0          1         534\n",
       "           2        1112\n",
       "           3        1676\n",
       "           4        2402\n",
       "1          0        5249\n",
       "           1         261\n",
       "           2          16\n",
       "           3           3\n",
       "           4           1\n",
       "2          0         498\n",
       "           1        1273\n",
       "           2        1284\n",
       "           3        1812\n",
       "           4         686\n",
       "3          0         913\n",
       "           1        2848\n",
       "           2        1499\n",
       "           3         236\n",
       "           4          10\n",
       "4          0         114\n",
       "           1         644\n",
       "           2        1129\n",
       "           3        2496\n",
       "           4        1152\n",
       "5          1        1777\n",
       "           2        2856\n",
       "           3         733\n",
       "           4          98\n",
       "6          0         730\n",
       "           1        1674\n",
       "           2        1357\n",
       "           3        1364\n",
       "           4         464\n",
       "7          0        3496\n",
       "           1        1912\n",
       "           2          31\n",
       "           3           3\n",
       "8          3          19\n",
       "           4        5414\n",
       "9          1         144\n",
       "           2        1765\n",
       "           3        2694\n",
       "           4         845\n",
       "dtype: int64"
      ]
     },
     "execution_count": 2,
     "metadata": {},
     "output_type": "execute_result"
    }
   ],
   "source": [
    "df3.groupby(['LabelOrig', 'Label']).size()"
   ]
  },
  {
   "cell_type": "code",
   "execution_count": 3,
   "metadata": {},
   "outputs": [
    {
     "data": {
      "text/plain": [
       "LabelOrig  Label\n",
       "0          0         28\n",
       "           1        128\n",
       "           2        195\n",
       "           3        239\n",
       "           4        310\n",
       "1          0        892\n",
       "           1         58\n",
       "           2          5\n",
       "           3          4\n",
       "           4          6\n",
       "2          0         66\n",
       "           1        216\n",
       "           2        193\n",
       "           3        338\n",
       "           4        130\n",
       "3          0        142\n",
       "           1        527\n",
       "           2        227\n",
       "           3         26\n",
       "           4         10\n",
       "4          0         30\n",
       "           1        107\n",
       "           2        190\n",
       "           3        407\n",
       "           4        156\n",
       "5          0         13\n",
       "           1        288\n",
       "           2        465\n",
       "           3        100\n",
       "           4          8\n",
       "6          0        110\n",
       "           1        241\n",
       "           2        211\n",
       "           3        218\n",
       "           4        174\n",
       "7          0        579\n",
       "           1        288\n",
       "           2         32\n",
       "           3         22\n",
       "           4          4\n",
       "8          0          8\n",
       "           1         12\n",
       "           2          6\n",
       "           3          4\n",
       "           4        867\n",
       "9          0          2\n",
       "           1         29\n",
       "           2        281\n",
       "           3        455\n",
       "           4        126\n",
       "dtype: int64"
      ]
     },
     "execution_count": 3,
     "metadata": {},
     "output_type": "execute_result"
    }
   ],
   "source": [
    "predict2.groupby(['LabelOrig', 'Label']).size()"
   ]
  },
  {
   "cell_type": "code",
   "execution_count": 2,
   "metadata": {},
   "outputs": [],
   "source": [
    "manual = pd.merge(testX2, predict,  how='right', left_on=['Id'], right_on = ['Id'])\n",
    "\n",
    "manual.loc[(manual['LabelOrig'] == 0) & (manual['Label'] == 0), 'Label'] = 4\n",
    "manual.loc[(manual['LabelOrig'] == 5) & (manual['Label'] == 0), 'Label'] = 2\n",
    "# manual.loc[(manual['LabelOrig'] == 7) & (manual['Label'] == 3), 'Label'] = 0\n",
    "manual.loc[(manual['LabelOrig'] == 7) & (manual['Label'] == 4), 'Label'] = 0\n",
    "manual.loc[(manual['LabelOrig'] == 9) & (manual['Label'] == 0), 'Label'] = 3\n",
    "manual.loc[(manual['LabelOrig'] == 8) & (manual['Label'] == 0), 'Label'] = 4\n",
    "manual.loc[(manual['LabelOrig'] == 8) & (manual['Label'] == 1), 'Label'] = 4\n",
    "manual.loc[(manual['LabelOrig'] == 8) & (manual['Label'] == 2), 'Label'] = 4\n",
    "manual.loc[(manual['LabelOrig'] == 1) & (manual['Label'] == 3), 'Label'] = 0\n",
    "manual.loc[(manual['LabelOrig'] == 1) & (manual['Label'] == 4), 'Label'] = 0\n",
    "\n",
    "manual = manual.dropna()\n",
    "result = manual[['Id', 'Label']]\n",
    "result.columns = ['Id', 'LabelNew']"
   ]
  },
  {
   "cell_type": "code",
   "execution_count": 3,
   "metadata": {},
   "outputs": [],
   "source": [
    "for index, row in predict.iterrows():\n",
    "    if(row['Id'] in result['Id'].unique()):\n",
    "        row['Label'] = result[result['Id'] == row['Id']].iat[0,1]"
   ]
  },
  {
   "cell_type": "code",
   "execution_count": null,
   "metadata": {},
   "outputs": [],
   "source": [
    "predict.to_csv('manual3.csv', index=False)"
   ]
  },
  {
   "cell_type": "markdown",
   "metadata": {},
   "source": [
    "### Merge results"
   ]
  },
  {
   "cell_type": "code",
   "execution_count": null,
   "metadata": {},
   "outputs": [],
   "source": [
    "import pandas as pd"
   ]
  },
  {
   "cell_type": "code",
   "execution_count": 1,
   "metadata": {},
   "outputs": [],
   "source": [
    "dfs = [pd.read_csv('resultXGBoost.csv').drop(columns=['Id']),\n",
    "       pd.read_csv('resultHGBC.csv').drop(columns=['Id']),\n",
    "       pd.read_csv('resultSVM2.csv').drop(columns=['Id']),\n",
    "#        pd.read_csv('resultRandomForest2.csv').drop(columns=['Id'])]\n",
    "res = pd.concat(dfs, axis=1, sort=False).mode(axis=1)[[0]].astype(int).rename(columns={0: 'Label'})\n",
    "res.index = res.index.rename('Id')\n",
    "res.to_csv('combine2.csv', encoding='utf-8')"
   ]
  },
  {
   "cell_type": "code",
   "execution_count": 7,
   "metadata": {},
   "outputs": [
    {
     "name": "stdout",
     "output_type": "stream",
     "text": [
      "[(35, 0.91358334), (14, 0.9134167), (17, 0.9116667), (9, 0.91125), (21, 0.91116667), (27, 0.91116667), (97, 0.91116667), (58, 0.911), (85, 0.91083336), (54, 0.9105), (32, 0.91008335), (90, 0.9098333), (23, 0.9095), (39, 0.9095), (8, 0.9091667), (15, 0.9088333), (79, 0.90858334), (71, 0.9085), (94, 0.9084167), (7, 0.90816665), (65, 0.90816665), (73, 0.9080833), (43, 0.908), (29, 0.90783334), (55, 0.90783334), (5, 0.90775), (61, 0.9076667), (6, 0.90758336), (40, 0.90758336), (57, 0.90758336), (72, 0.90758336), (37, 0.90741664), (12, 0.9073333), (46, 0.90716666), (16, 0.9069167), (36, 0.9066667), (41, 0.9066667), (68, 0.90641665), (88, 0.90641665), (76, 0.9063333), (60, 0.90625), (18, 0.9061667), (26, 0.9061667), (62, 0.9061667), (86, 0.9061667), (45, 0.90608335), (28, 0.906), (11, 0.9058333), (1, 0.90575), (2, 0.90575), (4, 0.90566665), (63, 0.9055833), (67, 0.9055833), (80, 0.9055833), (66, 0.90541667), (19, 0.90533334), (50, 0.90508336), (96, 0.905), (92, 0.9048333), (69, 0.90466666), (51, 0.90458333), (13, 0.9045), (49, 0.9045), (25, 0.90433335), (87, 0.90433335), (33, 0.90416664), (95, 0.904), (30, 0.90358335), (53, 0.90358335), (20, 0.9035), (81, 0.9034167), (99, 0.90325), (24, 0.90316665), (89, 0.903), (59, 0.90283334), (83, 0.90283334), (47, 0.90275), (78, 0.9026667), (52, 0.90258336), (84, 0.9025), (42, 0.9023333), (70, 0.90216666), (91, 0.90216666), (34, 0.90208334), (64, 0.9019167), (82, 0.90183336), (22, 0.90175), (74, 0.90175), (48, 0.90166664), (75, 0.90166664), (3, 0.9015), (98, 0.90133333), (56, 0.9011667), (93, 0.901), (10, 0.9008333), (31, 0.9005833), (77, 0.90033334), (38, 0.90008336), (44, 0.90008336)]\n"
     ]
    }
   ],
   "source": [
    "acc = []\n",
    "with open(\"1.csv\", \"r\") as f:\n",
    "    for line in f:\n",
    "        tmp = line.split(',')\n",
    "        acc.append((int(tmp[0]), float(tmp[1])))\n",
    "\n",
    "acc.sort(key = lambda x: x[1], reverse=True) \n",
    "print(acc)"
   ]
  },
  {
   "cell_type": "code",
   "execution_count": 1,
   "metadata": {},
   "outputs": [],
   "source": [
    "dfs = [pd.read_csv('./CNN91/resultCNN91' + str(i+1) + '.csv').drop(columns=['Id']) for i in range(27)] \n",
    "res = pd.concat(dfs, axis=1, sort=False).mode(axis=1)[[0]].astype(int).rename(columns={0: 'Label'})\n",
    "res.index = res.index.rename('Id')\n",
    "res.to_csv('combineCNN27.csv', encoding='utf-8')"
   ]
  },
  {
   "cell_type": "code",
   "execution_count": 2,
   "metadata": {},
   "outputs": [],
   "source": [
    "dfs = [pd.read_csv('./CNN1/resultCNN1' + str(i) + '.csv').drop(columns=['Id']) for i in range(1,10)] \n",
    "res = pd.concat(dfs, axis=1, sort=False).mode(axis=1)[[0]].astype(int).rename(columns={0: 'Label'})\n",
    "res.index = res.index.rename('Id')\n",
    "res.to_csv('combineCNN9.csv', encoding='utf-8')"
   ]
  },
  {
   "cell_type": "code",
   "execution_count": null,
   "metadata": {},
   "outputs": [],
   "source": [
    "dfs = [pd.read_csv('resultXGBoost.csv').drop(columns=['Id']),\n",
    "       pd.read_csv('resultHGBC.csv').drop(columns=['Id']),\n",
    "       pd.read_csv('resultSVM2.csv').drop(columns=['Id']),\n",
    "#        pd.read_csv('resultRandomForest2.csv').drop(columns=['Id'])]\n",
    "res = pd.concat(dfs, axis=1, sort=False).mode(axis=1)[[0]].astype(int).rename(columns={0: 'Label'})\n",
    "res.index = res.index.rename('Id')\n",
    "res.to_csv('combine2.csv', encoding='utf-8')\n",
    "\n",
    "acc = []\n",
    "with open(\"/Users/tiankai/Downloads/1.csv\", \"r\") as f:\n",
    "    for line in f:\n",
    "        tmp = line.split(',')\n",
    "        acc.append((int(tmp[0]), float(tmp[1])))\n",
    "\n",
    "acc.sort(key = lambda x: x[1], reverse=True) \n",
    "print(acc)\n",
    "\n",
    "import pandas as pd\n",
    "dfs = [pd.read_csv('./CNN91/resultCNN91' + str(i+1) + '.csv').drop(columns=['Id']) for i in range(27)] \n",
    "res = pd.concat(dfs, axis=1, sort=False).mode(axis=1)[[0]].astype(int).rename(columns={0: 'Label'})\n",
    "res.index = res.index.rename('Id')\n",
    "res.to_csv('combineCNN27.csv', encoding='utf-8')\n",
    "\n",
    "import pandas as pd\n",
    "dfs = [pd.read_csv('./CNN1/resultCNN1' + str(i) + '.csv').drop(columns=['Id']) for i in range(1,10)] \n",
    "res = pd.concat(dfs, axis=1, sort=False).mode(axis=1)[[0]].astype(int).rename(columns={0: 'Label'})\n",
    "res.index = res.index.rename('Id')\n",
    "res.to_csv('combineCNN9.csv', encoding='utf-8')"
   ]
  }
 ],
 "metadata": {
  "kernelspec": {
   "display_name": "Python 3",
   "language": "python",
   "name": "python3"
  },
  "language_info": {
   "codemirror_mode": {
    "name": "ipython",
    "version": 3
   },
   "file_extension": ".py",
   "mimetype": "text/x-python",
   "name": "python",
   "nbconvert_exporter": "python",
   "pygments_lexer": "ipython3",
   "version": "3.7.6"
  }
 },
 "nbformat": 4,
 "nbformat_minor": 4
}
