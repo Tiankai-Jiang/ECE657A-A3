{
 "cells": [
  {
   "cell_type": "code",
   "execution_count": 1,
   "metadata": {},
   "outputs": [],
   "source": [
    "import numpy as np\n",
    "import pandas as pd\n",
    "import matplotlib.pyplot as plt\n",
    "from sklearn.model_selection import train_test_split\n",
    "from tensorflow.keras import Sequential\n",
    "from tensorflow.keras.layers import Dense, Conv2D, MaxPool2D, Flatten, Dropout, BatchNormalization\n",
    "from tensorflow.keras.optimizers import Adam,SGD,Adagrad,Adadelta,RMSprop\n",
    "from tensorflow.keras.utils import to_categorical\n",
    "from tensorflow.keras.preprocessing.image import img_to_array, array_to_img\n",
    "from tensorflow.keras.applications import VGG19\n",
    "from tensorflow.keras.applications.vgg19 import preprocess_input"
   ]
  },
  {
   "cell_type": "code",
   "execution_count": 2,
   "metadata": {},
   "outputs": [],
   "source": [
    "df = pd.read_csv('train.csv').drop(columns=['Id'])\n",
    "X = np.array(df.iloc[:, 1:])\n",
    "y = to_categorical(np.array(df.iloc[:, 0]))\n",
    "\n",
    "# Convert the training and test images into 3 channels\n",
    "X = np.dstack([X] * 3)\n",
    "# Reshape images as per the tensor format required by tensorflow\n",
    "X = X.reshape(-1, 28,28,3)\n",
    "X = np.asarray([img_to_array(array_to_img(im, scale=False).resize((150,150))) for im in X])\n",
    "X = X.astype('float32')/255"
   ]
  },
  {
   "cell_type": "code",
   "execution_count": 3,
   "metadata": {
    "scrolled": true
   },
   "outputs": [],
   "source": [
    "X_train, X_test, y_train, y_test = train_test_split(X, y, test_size=0.2, random_state=42)\n",
    "X_val, X_test, y_val, y_test = train_test_split(X_test, y_test, test_size = 0.5, random_state = 42)"
   ]
  },
  {
   "cell_type": "code",
   "execution_count": 4,
   "metadata": {},
   "outputs": [
    {
     "name": "stdout",
     "output_type": "stream",
     "text": [
      "Model: \"vgg19\"\n",
      "_________________________________________________________________\n",
      "Layer (type)                 Output Shape              Param #   \n",
      "=================================================================\n",
      "input_1 (InputLayer)         [(None, 150, 150, 3)]     0         \n",
      "_________________________________________________________________\n",
      "block1_conv1 (Conv2D)        (None, 150, 150, 64)      1792      \n",
      "_________________________________________________________________\n",
      "block1_conv2 (Conv2D)        (None, 150, 150, 64)      36928     \n",
      "_________________________________________________________________\n",
      "block1_pool (MaxPooling2D)   (None, 75, 75, 64)        0         \n",
      "_________________________________________________________________\n",
      "block2_conv1 (Conv2D)        (None, 75, 75, 128)       73856     \n",
      "_________________________________________________________________\n",
      "block2_conv2 (Conv2D)        (None, 75, 75, 128)       147584    \n",
      "_________________________________________________________________\n",
      "block2_pool (MaxPooling2D)   (None, 37, 37, 128)       0         \n",
      "_________________________________________________________________\n",
      "block3_conv1 (Conv2D)        (None, 37, 37, 256)       295168    \n",
      "_________________________________________________________________\n",
      "block3_conv2 (Conv2D)        (None, 37, 37, 256)       590080    \n",
      "_________________________________________________________________\n",
      "block3_conv3 (Conv2D)        (None, 37, 37, 256)       590080    \n",
      "_________________________________________________________________\n",
      "block3_conv4 (Conv2D)        (None, 37, 37, 256)       590080    \n",
      "_________________________________________________________________\n",
      "block3_pool (MaxPooling2D)   (None, 18, 18, 256)       0         \n",
      "_________________________________________________________________\n",
      "block4_conv1 (Conv2D)        (None, 18, 18, 512)       1180160   \n",
      "_________________________________________________________________\n",
      "block4_conv2 (Conv2D)        (None, 18, 18, 512)       2359808   \n",
      "_________________________________________________________________\n",
      "block4_conv3 (Conv2D)        (None, 18, 18, 512)       2359808   \n",
      "_________________________________________________________________\n",
      "block4_conv4 (Conv2D)        (None, 18, 18, 512)       2359808   \n",
      "_________________________________________________________________\n",
      "block4_pool (MaxPooling2D)   (None, 9, 9, 512)         0         \n",
      "_________________________________________________________________\n",
      "block5_conv1 (Conv2D)        (None, 9, 9, 512)         2359808   \n",
      "_________________________________________________________________\n",
      "block5_conv2 (Conv2D)        (None, 9, 9, 512)         2359808   \n",
      "_________________________________________________________________\n",
      "block5_conv3 (Conv2D)        (None, 9, 9, 512)         2359808   \n",
      "_________________________________________________________________\n",
      "block5_conv4 (Conv2D)        (None, 9, 9, 512)         2359808   \n",
      "_________________________________________________________________\n",
      "block5_pool (MaxPooling2D)   (None, 4, 4, 512)         0         \n",
      "=================================================================\n",
      "Total params: 20,024,384\n",
      "Trainable params: 20,024,384\n",
      "Non-trainable params: 0\n",
      "_________________________________________________________________\n"
     ]
    }
   ],
   "source": [
    "# Create the base model of VGG19\n",
    "vgg19 = VGG19(weights='imagenet', include_top=False, input_shape = (150, 150, 3), classes = 5)\n",
    "vgg19.summary()"
   ]
  },
  {
   "cell_type": "code",
   "execution_count": 5,
   "metadata": {},
   "outputs": [],
   "source": [
    "# Preprocessing the input \n",
    "X_train = preprocess_input(X_train)\n",
    "X_val = preprocess_input(X_val)\n",
    "X_test = preprocess_input(X_test)"
   ]
  },
  {
   "cell_type": "code",
   "execution_count": 6,
   "metadata": {},
   "outputs": [],
   "source": [
    "# Extracting features\n",
    "train_features = vgg19.predict(np.array(X_train), batch_size=256)\n",
    "test_features = vgg19.predict(np.array(X_test), batch_size=256)\n",
    "val_features = vgg19.predict(np.array(X_val), batch_size=256)\n",
    "# Current shape of features\n",
    "print(train_features.shape, \"\\n\",  test_features.shape, \"\\n\", val_features.shape)"
   ]
  },
  {
   "cell_type": "code",
   "execution_count": 8,
   "metadata": {},
   "outputs": [],
   "source": [
    "# Flatten extracted features\n",
    "train_features = np.reshape(train_features, (48000, 4*4*512))\n",
    "test_features = np.reshape(test_features, (6000, 4*4*512))\n",
    "val_features = np.reshape(val_features, (6000, 4*4*512))"
   ]
  },
  {
   "cell_type": "code",
   "execution_count": 9,
   "metadata": {},
   "outputs": [],
   "source": [
    "model = Sequential([\n",
    "    Dense(512, activation='relu', input_dim=4*4*512),\n",
    "    Dropout(0.5),\n",
    "    Dense(5, activation=\"softmax\")\n",
    "])\n",
    "model.compile(optimizer=Adam(lr=0.001, beta_1=0.9, beta_2=0.999), loss=\"categorical_crossentropy\", metrics=[\"accuracy\"])"
   ]
  },
  {
   "cell_type": "code",
   "execution_count": 10,
   "metadata": {},
   "outputs": [
    {
     "name": "stdout",
     "output_type": "stream",
     "text": [
      "Train on 48000 samples, validate on 6000 samples\n",
      "Epoch 1/50\n",
      "48000/48000 [==============================] - 3s 59us/sample - loss: 1.5588 - accuracy: 0.3438 - val_loss: 1.2661 - val_accuracy: 0.4767\n",
      "Epoch 2/50\n",
      "48000/48000 [==============================] - 2s 43us/sample - loss: 1.2444 - accuracy: 0.4401 - val_loss: 1.1444 - val_accuracy: 0.5095\n",
      "Epoch 3/50\n",
      "48000/48000 [==============================] - 2s 43us/sample - loss: 1.1830 - accuracy: 0.4715 - val_loss: 1.1033 - val_accuracy: 0.5433\n",
      "Epoch 4/50\n",
      "48000/48000 [==============================] - 2s 42us/sample - loss: 1.1382 - accuracy: 0.4927 - val_loss: 1.0085 - val_accuracy: 0.5652\n",
      "Epoch 5/50\n",
      "48000/48000 [==============================] - 2s 42us/sample - loss: 1.1196 - accuracy: 0.5033 - val_loss: 0.9708 - val_accuracy: 0.5887\n",
      "Epoch 6/50\n",
      "48000/48000 [==============================] - 2s 42us/sample - loss: 1.1093 - accuracy: 0.5087 - val_loss: 1.0231 - val_accuracy: 0.5737\n",
      "Epoch 7/50\n",
      "48000/48000 [==============================] - 2s 41us/sample - loss: 1.0961 - accuracy: 0.5097 - val_loss: 1.0047 - val_accuracy: 0.5542\n",
      "Epoch 8/50\n",
      "48000/48000 [==============================] - 2s 41us/sample - loss: 1.0868 - accuracy: 0.5129 - val_loss: 0.9897 - val_accuracy: 0.5940\n",
      "Epoch 9/50\n",
      "48000/48000 [==============================] - 2s 42us/sample - loss: 1.0865 - accuracy: 0.5130 - val_loss: 0.9821 - val_accuracy: 0.6020\n",
      "Epoch 10/50\n",
      "48000/48000 [==============================] - 2s 39us/sample - loss: 1.0745 - accuracy: 0.5180 - val_loss: 0.9426 - val_accuracy: 0.6252\n",
      "Epoch 11/50\n",
      "48000/48000 [==============================] - 2s 42us/sample - loss: 1.0816 - accuracy: 0.5176 - val_loss: 0.9745 - val_accuracy: 0.5780\n",
      "Epoch 12/50\n",
      "48000/48000 [==============================] - 2s 41us/sample - loss: 1.0898 - accuracy: 0.5077 - val_loss: 0.9678 - val_accuracy: 0.6022\n",
      "Epoch 13/50\n",
      "48000/48000 [==============================] - 2s 42us/sample - loss: 1.0747 - accuracy: 0.5139 - val_loss: 0.9410 - val_accuracy: 0.5993\n",
      "Epoch 14/50\n",
      "48000/48000 [==============================] - 2s 41us/sample - loss: 1.0884 - accuracy: 0.5045 - val_loss: 0.9625 - val_accuracy: 0.6105\n",
      "Epoch 15/50\n",
      "48000/48000 [==============================] - 2s 41us/sample - loss: 1.0742 - accuracy: 0.5134 - val_loss: 0.8783 - val_accuracy: 0.6185\n",
      "Epoch 16/50\n",
      "48000/48000 [==============================] - 2s 41us/sample - loss: 1.0597 - accuracy: 0.5200 - val_loss: 0.8828 - val_accuracy: 0.6362\n",
      "Epoch 17/50\n",
      "48000/48000 [==============================] - 2s 41us/sample - loss: 1.0541 - accuracy: 0.5195 - val_loss: 0.8877 - val_accuracy: 0.6373\n",
      "Epoch 18/50\n",
      "48000/48000 [==============================] - 2s 42us/sample - loss: 1.0630 - accuracy: 0.5125 - val_loss: 0.9274 - val_accuracy: 0.6170\n",
      "Epoch 19/50\n",
      "48000/48000 [==============================] - 2s 40us/sample - loss: 1.0598 - accuracy: 0.5200 - val_loss: 0.9625 - val_accuracy: 0.5663\n",
      "Epoch 20/50\n",
      "48000/48000 [==============================] - 2s 40us/sample - loss: 1.0435 - accuracy: 0.5261 - val_loss: 0.8647 - val_accuracy: 0.6285\n",
      "Epoch 21/50\n",
      "48000/48000 [==============================] - 2s 41us/sample - loss: 1.0368 - accuracy: 0.5302 - val_loss: 0.9451 - val_accuracy: 0.5945\n",
      "Epoch 22/50\n",
      "48000/48000 [==============================] - 2s 40us/sample - loss: 1.0540 - accuracy: 0.5192 - val_loss: 0.8547 - val_accuracy: 0.6475\n",
      "Epoch 23/50\n",
      "48000/48000 [==============================] - 2s 40us/sample - loss: 1.0473 - accuracy: 0.5219 - val_loss: 0.8809 - val_accuracy: 0.6370\n",
      "Epoch 24/50\n",
      "48000/48000 [==============================] - 2s 40us/sample - loss: 1.0464 - accuracy: 0.5238 - val_loss: 0.8801 - val_accuracy: 0.6373\n",
      "Epoch 25/50\n",
      "48000/48000 [==============================] - 2s 40us/sample - loss: 1.0527 - accuracy: 0.5195 - val_loss: 0.8873 - val_accuracy: 0.6347\n",
      "Epoch 26/50\n",
      "48000/48000 [==============================] - 2s 39us/sample - loss: 1.0418 - accuracy: 0.5282 - val_loss: 0.8930 - val_accuracy: 0.6143\n",
      "Epoch 27/50\n",
      "48000/48000 [==============================] - 2s 39us/sample - loss: 1.0573 - accuracy: 0.5203 - val_loss: 0.8850 - val_accuracy: 0.6127\n",
      "Epoch 28/50\n",
      "48000/48000 [==============================] - 2s 42us/sample - loss: 1.0643 - accuracy: 0.5185 - val_loss: 0.8551 - val_accuracy: 0.6392\n",
      "Epoch 29/50\n",
      "48000/48000 [==============================] - 2s 41us/sample - loss: 1.0503 - accuracy: 0.5247 - val_loss: 0.9092 - val_accuracy: 0.6337\n",
      "Epoch 30/50\n",
      "48000/48000 [==============================] - 2s 40us/sample - loss: 1.0541 - accuracy: 0.5225 - val_loss: 0.9614 - val_accuracy: 0.6100\n",
      "Epoch 31/50\n",
      "48000/48000 [==============================] - 2s 40us/sample - loss: 1.0408 - accuracy: 0.5299 - val_loss: 0.9068 - val_accuracy: 0.6107\n",
      "Epoch 32/50\n",
      "48000/48000 [==============================] - 2s 40us/sample - loss: 1.0325 - accuracy: 0.5365 - val_loss: 0.8551 - val_accuracy: 0.6392\n",
      "Epoch 33/50\n",
      "48000/48000 [==============================] - 2s 41us/sample - loss: 1.0596 - accuracy: 0.5230 - val_loss: 0.9034 - val_accuracy: 0.6493\n",
      "Epoch 34/50\n",
      "48000/48000 [==============================] - 2s 41us/sample - loss: 1.0396 - accuracy: 0.5295 - val_loss: 0.8775 - val_accuracy: 0.6373\n",
      "Epoch 35/50\n",
      "48000/48000 [==============================] - 2s 40us/sample - loss: 1.0363 - accuracy: 0.5354 - val_loss: 0.8365 - val_accuracy: 0.6503\n",
      "Epoch 36/50\n",
      "48000/48000 [==============================] - 2s 40us/sample - loss: 1.0233 - accuracy: 0.5453 - val_loss: 0.8404 - val_accuracy: 0.6362\n",
      "Epoch 37/50\n",
      "48000/48000 [==============================] - 2s 41us/sample - loss: 1.0567 - accuracy: 0.5189 - val_loss: 0.8430 - val_accuracy: 0.6398\n",
      "Epoch 38/50\n",
      "48000/48000 [==============================] - 2s 40us/sample - loss: 1.0315 - accuracy: 0.5370 - val_loss: 0.9188 - val_accuracy: 0.6272\n",
      "Epoch 39/50\n",
      "48000/48000 [==============================] - 2s 41us/sample - loss: 1.0491 - accuracy: 0.5254 - val_loss: 0.8454 - val_accuracy: 0.6490\n",
      "Epoch 40/50\n",
      "48000/48000 [==============================] - 2s 41us/sample - loss: 1.0206 - accuracy: 0.5443 - val_loss: 0.8290 - val_accuracy: 0.6462\n",
      "Epoch 41/50\n",
      "48000/48000 [==============================] - 2s 40us/sample - loss: 1.0179 - accuracy: 0.5424 - val_loss: 0.8556 - val_accuracy: 0.6505\n",
      "Epoch 42/50\n",
      "48000/48000 [==============================] - 2s 40us/sample - loss: 1.0389 - accuracy: 0.5336 - val_loss: 0.8566 - val_accuracy: 0.6527\n",
      "Epoch 43/50\n",
      "48000/48000 [==============================] - 2s 40us/sample - loss: 1.0303 - accuracy: 0.5387 - val_loss: 0.8677 - val_accuracy: 0.6413\n",
      "Epoch 44/50\n",
      "48000/48000 [==============================] - 2s 40us/sample - loss: 1.0286 - accuracy: 0.5409 - val_loss: 0.8722 - val_accuracy: 0.6497\n",
      "Epoch 45/50\n",
      "48000/48000 [==============================] - 2s 42us/sample - loss: 1.0160 - accuracy: 0.5475 - val_loss: 0.8400 - val_accuracy: 0.6507\n",
      "Epoch 46/50\n",
      "48000/48000 [==============================] - 2s 42us/sample - loss: 1.0220 - accuracy: 0.5462 - val_loss: 0.8292 - val_accuracy: 0.6555\n",
      "Epoch 47/50\n",
      "48000/48000 [==============================] - 2s 39us/sample - loss: 1.0272 - accuracy: 0.5415 - val_loss: 0.9154 - val_accuracy: 0.6328\n",
      "Epoch 48/50\n",
      "48000/48000 [==============================] - 2s 42us/sample - loss: 1.0205 - accuracy: 0.5450 - val_loss: 0.8436 - val_accuracy: 0.6573\n",
      "Epoch 49/50\n",
      "48000/48000 [==============================] - 2s 40us/sample - loss: 1.0166 - accuracy: 0.5487 - val_loss: 0.9049 - val_accuracy: 0.6025\n",
      "Epoch 50/50\n",
      "48000/48000 [==============================] - 2s 40us/sample - loss: 1.0200 - accuracy: 0.5476 - val_loss: 0.8258 - val_accuracy: 0.6593\n"
     ]
    }
   ],
   "source": [
    "# Train the the model\n",
    "history = model.fit(train_features, y_train, batch_size=128, epochs=50, verbose=1, validation_data=(val_features, y_val))"
   ]
  },
  {
   "cell_type": "code",
   "execution_count": 11,
   "metadata": {},
   "outputs": [
    {
     "name": "stdout",
     "output_type": "stream",
     "text": [
      "Test loss: 0.8325433111190796\n",
      "Test accuracy: 0.65533334\n"
     ]
    }
   ],
   "source": [
    "score = model.evaluate(test_features, y_test, verbose=0)\n",
    "print('Test loss:', score[0])\n",
    "print('Test accuracy:', score[1])"
   ]
  },
  {
   "cell_type": "code",
   "execution_count": 12,
   "metadata": {},
   "outputs": [
    {
     "ename": "KeyError",
     "evalue": "'acc'",
     "output_type": "error",
     "traceback": [
      "\u001b[0;31m---------------------------------------------------------------------------\u001b[0m",
      "\u001b[0;31mKeyError\u001b[0m                                  Traceback (most recent call last)",
      "\u001b[0;32m<ipython-input-12-fa9bc971e341>\u001b[0m in \u001b[0;36m<module>\u001b[0;34m\u001b[0m\n\u001b[1;32m      3\u001b[0m \u001b[0mget_ipython\u001b[0m\u001b[0;34m(\u001b[0m\u001b[0;34m)\u001b[0m\u001b[0;34m.\u001b[0m\u001b[0mrun_line_magic\u001b[0m\u001b[0;34m(\u001b[0m\u001b[0;34m'matplotlib'\u001b[0m\u001b[0;34m,\u001b[0m \u001b[0;34m'inline'\u001b[0m\u001b[0;34m)\u001b[0m\u001b[0;34m\u001b[0m\u001b[0;34m\u001b[0m\u001b[0m\n\u001b[1;32m      4\u001b[0m \u001b[0;34m\u001b[0m\u001b[0m\n\u001b[0;32m----> 5\u001b[0;31m \u001b[0macc\u001b[0m \u001b[0;34m=\u001b[0m \u001b[0mhistory\u001b[0m\u001b[0;34m.\u001b[0m\u001b[0mhistory\u001b[0m\u001b[0;34m[\u001b[0m\u001b[0;34m'acc'\u001b[0m\u001b[0;34m]\u001b[0m\u001b[0;34m\u001b[0m\u001b[0;34m\u001b[0m\u001b[0m\n\u001b[0m\u001b[1;32m      6\u001b[0m \u001b[0mval_acc\u001b[0m \u001b[0;34m=\u001b[0m \u001b[0mhistory\u001b[0m\u001b[0;34m.\u001b[0m\u001b[0mhistory\u001b[0m\u001b[0;34m[\u001b[0m\u001b[0;34m'val_acc'\u001b[0m\u001b[0;34m]\u001b[0m\u001b[0;34m\u001b[0m\u001b[0;34m\u001b[0m\u001b[0m\n\u001b[1;32m      7\u001b[0m \u001b[0mloss\u001b[0m \u001b[0;34m=\u001b[0m \u001b[0mhistory\u001b[0m\u001b[0;34m.\u001b[0m\u001b[0mhistory\u001b[0m\u001b[0;34m[\u001b[0m\u001b[0;34m'loss'\u001b[0m\u001b[0;34m]\u001b[0m\u001b[0;34m\u001b[0m\u001b[0;34m\u001b[0m\u001b[0m\n",
      "\u001b[0;31mKeyError\u001b[0m: 'acc'"
     ]
    }
   ],
   "source": [
    "# plot the loss and accuracy\n",
    "import matplotlib.pyplot as plt\n",
    "%matplotlib inline\n",
    "\n",
    "acc = history.history['acc']\n",
    "val_acc = history.history['val_acc']\n",
    "loss = history.history['loss']\n",
    "val_loss = history.history['val_loss']\n",
    "epochs = range(1, len(acc) + 1)\n",
    "\n",
    "plt.title('Training and validation accuracy')\n",
    "plt.plot(epochs, acc, 'red', label='Training acc')\n",
    "plt.plot(epochs, val_acc, 'blue', label='Validation acc')\n",
    "plt.legend()\n",
    "\n",
    "plt.figure()\n",
    "plt.title('Training and validation loss')\n",
    "plt.plot(epochs, loss, 'red', label='Training loss')\n",
    "plt.plot(epochs, val_loss, 'blue', label='Validation loss')\n",
    "\n",
    "plt.legend()\n",
    "\n",
    "plt.show()"
   ]
  },
  {
   "cell_type": "markdown",
   "metadata": {},
   "source": [
    "Although the lines of loss and accuracy for both training and validation follow similar trends, there're some space between their values.\n",
    "\n",
    "## Classification Report\n",
    "I can summarize the performance of my classifier as follows:"
   ]
  },
  {
   "cell_type": "code",
   "execution_count": 19,
   "metadata": {
    "collapsed": true
   },
   "outputs": [],
   "source": [
    "# get the predictions for the test data\n",
    "predicted_classes = model.predict_classes(test_features)\n",
    "\n",
    "# get the indices to be plotted\n",
    "y_true = data_test.iloc[:, 0]\n",
    "correct = np.nonzero(predicted_classes==y_true)[0]\n",
    "incorrect = np.nonzero(predicted_classes!=y_true)[0]"
   ]
  },
  {
   "cell_type": "code",
   "execution_count": 20,
   "metadata": {},
   "outputs": [
    {
     "name": "stdout",
     "output_type": "stream",
     "text": [
      "             precision    recall  f1-score   support\n",
      "\n",
      "    Class 0       0.63      0.83      0.71      1000\n",
      "    Class 1       0.94      0.95      0.95      1000\n",
      "    Class 2       0.68      0.56      0.61      1000\n",
      "    Class 3       0.81      0.79      0.80      1000\n",
      "    Class 4       0.62      0.76      0.68      1000\n",
      "    Class 5       0.77      0.95      0.85      1000\n",
      "    Class 6       0.50      0.27      0.35      1000\n",
      "    Class 7       0.89      0.77      0.82      1000\n",
      "    Class 8       0.87      0.94      0.90      1000\n",
      "    Class 9       0.91      0.85      0.88      1000\n",
      "\n",
      "avg / total       0.76      0.77      0.76     10000\n",
      "\n"
     ]
    }
   ],
   "source": [
    "from sklearn.metrics import classification_report\n",
    "target_names = [\"Class {}\".format(i) for i in range(10)]\n",
    "print(classification_report(y_true, predicted_classes, target_names=target_names))"
   ]
  },
  {
   "cell_type": "markdown",
   "metadata": {},
   "source": [
    "The model underperforms for Class 2 and 6. It lacks precision for class 0 and 4, additionally. "
   ]
  },
  {
   "cell_type": "code",
   "execution_count": 21,
   "metadata": {},
   "outputs": [
    {
     "data": {
      "text/plain": [
       "(7664, 8192)"
      ]
     },
     "execution_count": 21,
     "metadata": {},
     "output_type": "execute_result"
    }
   ],
   "source": [
    "test_features[correct].shape"
   ]
  }
 ],
 "metadata": {
  "kernelspec": {
   "display_name": "Python 3",
   "language": "python",
   "name": "python3"
  },
  "language_info": {
   "codemirror_mode": {
    "name": "ipython",
    "version": 3
   },
   "file_extension": ".py",
   "mimetype": "text/x-python",
   "name": "python",
   "nbconvert_exporter": "python",
   "pygments_lexer": "ipython3",
   "version": "3.7.6"
  }
 },
 "nbformat": 4,
 "nbformat_minor": 2
}
