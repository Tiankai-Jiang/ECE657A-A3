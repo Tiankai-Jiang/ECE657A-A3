{
 "cells": [
  {
   "cell_type": "code",
   "execution_count": 1,
   "metadata": {},
   "outputs": [],
   "source": [
    "import pandas as pd\n",
    "dfs = [pd.read_csv('resultXGBoost.csv').drop(columns=['Id']),\n",
    "       pd.read_csv('resultHGBC.csv').drop(columns=['Id']),\n",
    "       pd.read_csv('resultSVM2.csv').drop(columns=['Id']),\n",
    "#        pd.read_csv('resultRandomForest2.csv').drop(columns=['Id'])]\n",
    "res = pd.concat(dfs, axis=1, sort=False).mode(axis=1)[[0]].astype(int).rename(columns={0: 'Label'})\n",
    "res.index = res.index.rename('Id')\n",
    "res.to_csv('combine2.csv', encoding='utf-8')"
   ]
  },
  {
   "cell_type": "code",
   "execution_count": 7,
   "metadata": {},
   "outputs": [
    {
     "name": "stdout",
     "output_type": "stream",
     "text": [
      "[(35, 0.91358334), (14, 0.9134167), (17, 0.9116667), (9, 0.91125), (21, 0.91116667), (27, 0.91116667), (97, 0.91116667), (58, 0.911), (85, 0.91083336), (54, 0.9105), (32, 0.91008335), (90, 0.9098333), (23, 0.9095), (39, 0.9095), (8, 0.9091667), (15, 0.9088333), (79, 0.90858334), (71, 0.9085), (94, 0.9084167), (7, 0.90816665), (65, 0.90816665), (73, 0.9080833), (43, 0.908), (29, 0.90783334), (55, 0.90783334), (5, 0.90775), (61, 0.9076667), (6, 0.90758336), (40, 0.90758336), (57, 0.90758336), (72, 0.90758336), (37, 0.90741664), (12, 0.9073333), (46, 0.90716666), (16, 0.9069167), (36, 0.9066667), (41, 0.9066667), (68, 0.90641665), (88, 0.90641665), (76, 0.9063333), (60, 0.90625), (18, 0.9061667), (26, 0.9061667), (62, 0.9061667), (86, 0.9061667), (45, 0.90608335), (28, 0.906), (11, 0.9058333), (1, 0.90575), (2, 0.90575), (4, 0.90566665), (63, 0.9055833), (67, 0.9055833), (80, 0.9055833), (66, 0.90541667), (19, 0.90533334), (50, 0.90508336), (96, 0.905), (92, 0.9048333), (69, 0.90466666), (51, 0.90458333), (13, 0.9045), (49, 0.9045), (25, 0.90433335), (87, 0.90433335), (33, 0.90416664), (95, 0.904), (30, 0.90358335), (53, 0.90358335), (20, 0.9035), (81, 0.9034167), (99, 0.90325), (24, 0.90316665), (89, 0.903), (59, 0.90283334), (83, 0.90283334), (47, 0.90275), (78, 0.9026667), (52, 0.90258336), (84, 0.9025), (42, 0.9023333), (70, 0.90216666), (91, 0.90216666), (34, 0.90208334), (64, 0.9019167), (82, 0.90183336), (22, 0.90175), (74, 0.90175), (48, 0.90166664), (75, 0.90166664), (3, 0.9015), (98, 0.90133333), (56, 0.9011667), (93, 0.901), (10, 0.9008333), (31, 0.9005833), (77, 0.90033334), (38, 0.90008336), (44, 0.90008336)]\n"
     ]
    }
   ],
   "source": [
    "acc = []\n",
    "with open(\"/Users/tiankai/Downloads/1.csv\", \"r\") as f:\n",
    "    for line in f:\n",
    "        tmp = line.split(',')\n",
    "        acc.append((int(tmp[0]), float(tmp[1])))\n",
    "\n",
    "acc.sort(key = lambda x: x[1], reverse=True) \n",
    "print(acc)"
   ]
  },
  {
   "cell_type": "code",
   "execution_count": 8,
   "metadata": {},
   "outputs": [],
   "source": [
    "import pandas as pd\n",
    "dfs = [pd.read_csv('./CNN1/resultCNN1' + str(acc[i][0]) + '.csv').drop(columns=['Id']) for i in range(15)] \n",
    "res = pd.concat(dfs, axis=1, sort=False).mode(axis=1)[[0]].astype(int).rename(columns={0: 'Label'})\n",
    "res.index = res.index.rename('Id')\n",
    "res.to_csv('combineCNN15.csv', encoding='utf-8')"
   ]
  },
  {
   "cell_type": "code",
   "execution_count": 2,
   "metadata": {},
   "outputs": [],
   "source": [
    "import pandas as pd\n",
    "dfs = [pd.read_csv('./CNN1/resultCNN1' + str(i) + '.csv').drop(columns=['Id']) for i in range(1,10)] \n",
    "res = pd.concat(dfs, axis=1, sort=False).mode(axis=1)[[0]].astype(int).rename(columns={0: 'Label'})\n",
    "res.index = res.index.rename('Id')\n",
    "res.to_csv('combineCNN9.csv', encoding='utf-8')"
   ]
  },
  {
   "cell_type": "code",
   "execution_count": 2,
   "metadata": {},
   "outputs": [],
   "source": [
    "res2 = pd.concat(dfs, axis=1, sort=False)"
   ]
  },
  {
   "cell_type": "code",
   "execution_count": null,
   "metadata": {},
   "outputs": [],
   "source": []
  }
 ],
 "metadata": {
  "kernelspec": {
   "display_name": "Python 3",
   "language": "python",
   "name": "python3"
  },
  "language_info": {
   "codemirror_mode": {
    "name": "ipython",
    "version": 3
   },
   "file_extension": ".py",
   "mimetype": "text/x-python",
   "name": "python",
   "nbconvert_exporter": "python",
   "pygments_lexer": "ipython3",
   "version": "3.7.6"
  }
 },
 "nbformat": 4,
 "nbformat_minor": 4
}
