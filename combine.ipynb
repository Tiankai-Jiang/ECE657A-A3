{
 "cells": [
  {
   "cell_type": "code",
   "execution_count": 1,
   "metadata": {},
   "outputs": [],
   "source": [
    "import pandas as pd\n",
    "dfs = [pd.read_csv('resultRandomForest.csv').drop(columns=['Id']),\n",
    "       pd.read_csv('resultKNN.csv').drop(columns=['Id']),\n",
    "       pd.read_csv('resultSVM.csv').drop(columns=['Id'])]\n",
    "res = pd.concat(dfs, axis=1, sort=False).mode(axis=1)[[0]].astype(int).rename(columns={0: 'Label'})\n",
    "res.index = res.index.rename('Id')\n",
    "res.to_csv('combine1.csv', encoding='utf-8')"
   ]
  },
  {
   "cell_type": "code",
   "execution_count": 5,
   "metadata": {},
   "outputs": [],
   "source": [
    "dfs = [pd.read_csv('resultCNN' + str(i) + '.csv').drop(columns=['Id']) for i in range(1,5)] + [pd.read_csv('resultResNet50.csv').drop(columns=['Id'])]\n",
    "res = pd.concat(dfs, axis=1, sort=False).mode(axis=1)[[0]].astype(int).rename(columns={0: 'Label'})\n",
    "res.index = res.index.rename('Id')\n",
    "res.to_csv('combineCNN.csv', encoding='utf-8')"
   ]
  },
  {
   "cell_type": "code",
   "execution_count": null,
   "metadata": {},
   "outputs": [],
   "source": []
  }
 ],
 "metadata": {
  "kernelspec": {
   "display_name": "Python 3",
   "language": "python",
   "name": "python3"
  },
  "language_info": {
   "codemirror_mode": {
    "name": "ipython",
    "version": 3
   },
   "file_extension": ".py",
   "mimetype": "text/x-python",
   "name": "python",
   "nbconvert_exporter": "python",
   "pygments_lexer": "ipython3",
   "version": "3.7.6"
  }
 },
 "nbformat": 4,
 "nbformat_minor": 4
}
