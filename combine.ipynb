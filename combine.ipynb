{
 "cells": [
  {
   "cell_type": "code",
   "execution_count": 1,
   "metadata": {},
   "outputs": [],
   "source": [
    "import pandas as pd\n",
    "dfRF = pd.read_csv('resultRandomForest.csv').drop(columns=['Id']).rename(columns={'Label': 'RandomForest'})\n",
    "dfKNN = pd.read_csv('resultKNN.csv').drop(columns=['Id']).rename(columns={'Label': 'KNN'})\n",
    "dfSVM = pd.read_csv('resultSVM.csv').drop(columns=['Id']).rename(columns={'Label': 'SVM'})\n",
    "res = pd.concat([dfRF, dfKNN, dfSVM], axis=1, sort=False).mode(axis=1)[[0]].astype(int).rename(columns={0: 'Label'})\n",
    "res.index = res.index.rename('Id')\n",
    "res.to_csv('combine1.csv', encoding='utf-8')"
   ]
  }
 ],
 "metadata": {
  "kernelspec": {
   "display_name": "Python 3",
   "language": "python",
   "name": "python3"
  },
  "language_info": {
   "codemirror_mode": {
    "name": "ipython",
    "version": 3
   },
   "file_extension": ".py",
   "mimetype": "text/x-python",
   "name": "python",
   "nbconvert_exporter": "python",
   "pygments_lexer": "ipython3",
   "version": "3.7.6"
  }
 },
 "nbformat": 4,
 "nbformat_minor": 4
}
