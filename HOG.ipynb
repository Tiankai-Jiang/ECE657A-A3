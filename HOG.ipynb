{
 "cells": [
  {
   "cell_type": "code",
   "execution_count": 1,
   "metadata": {},
   "outputs": [],
   "source": [
    "import pandas as pd\n",
    "import numpy as np\n",
    "from skimage.feature import hog\n",
    "import matplotlib as plt\n",
    "from sklearn.model_selection import train_test_split\n",
    "from sklearn.svm import SVC\n",
    "from sklearn.preprocessing import StandardScaler\n",
    "from sklearn.decomposition import PCA\n",
    "\n",
    "df = pd.read_csv('train.csv').drop(columns=['Id'])\n",
    "dfPred = pd.read_csv('testX.csv')"
   ]
  },
  {
   "cell_type": "code",
   "execution_count": 2,
   "metadata": {},
   "outputs": [],
   "source": [
    "def calc_hog_features(X):\n",
    "    return np.array([hog(x.reshape((28, 28)), orientations = 8, pixels_per_cell = (8, 8), cells_per_block=(1, 1)) for x in X])"
   ]
  },
  {
   "cell_type": "code",
   "execution_count": 32,
   "metadata": {},
   "outputs": [],
   "source": [
    "pca2 = PCA(n_components = 25)\n",
    "ss2 = StandardScaler()\n",
    "X_train_hog, X_test_hog, y_train_hog, y_test_hog = train_test_split(pca2.fit_transform(ss2.fit_transform(calc_hog_features(df.iloc[:,1:].values))), df.iloc[:,0], test_size=0.2)\n",
    "# X_pred_hog = calc_hog_features(dfPred.iloc[:,1:].values)"
   ]
  },
  {
   "cell_type": "code",
   "execution_count": 10,
   "metadata": {
    "scrolled": true
   },
   "outputs": [
    {
     "data": {
      "text/plain": [
       "(48000, 72)"
      ]
     },
     "execution_count": 10,
     "metadata": {},
     "output_type": "execute_result"
    }
   ],
   "source": [
    "X_train_hog.shape"
   ]
  },
  {
   "cell_type": "code",
   "execution_count": 33,
   "metadata": {},
   "outputs": [],
   "source": [
    "pca = PCA(n_components = 25)\n",
    "ss = StandardScaler()\n",
    "X_train_pca, X_test_pca, y_train, y_test = train_test_split(pca.fit_transform(ss.fit_transform(df.iloc[:,1:].values)), df.iloc[:,0], test_size=0.2, random_state=42)\n",
    "# X_pred = pca.transform(ss.transform(dfPred.iloc[:,1:].values))"
   ]
  },
  {
   "cell_type": "code",
   "execution_count": 34,
   "metadata": {
    "scrolled": true
   },
   "outputs": [
    {
     "data": {
      "text/plain": [
       "(48000, 25)"
      ]
     },
     "execution_count": 34,
     "metadata": {},
     "output_type": "execute_result"
    }
   ],
   "source": [
    "X_train_pca.shape"
   ]
  },
  {
   "cell_type": "code",
   "execution_count": 35,
   "metadata": {},
   "outputs": [],
   "source": [
    "X_train_all = np.concatenate((X_train_pca, X_train_hog), axis = 1)\n",
    "X_test_all = np.concatenate((X_test_pca, X_test_hog), axis = 1)"
   ]
  },
  {
   "cell_type": "code",
   "execution_count": 37,
   "metadata": {},
   "outputs": [
    {
     "data": {
      "text/plain": [
       "array([20.47441038,  4.39337714,  4.35146629, -2.7075551 , -4.80269077,\n",
       "        0.55843719, -0.62382155, -2.34306732, -0.12443448, -1.24662193,\n",
       "        0.23795442,  0.79755696,  1.70412861, -2.72199599,  3.23418288,\n",
       "        0.94499711, -2.55118101, -1.65179865, -3.25802901, -2.15237235,\n",
       "       -0.06472039, -0.50707634,  0.3808144 ,  1.25273507,  0.11762337,\n",
       "       -5.75702487,  5.18784891,  0.4753148 , -1.48446298, -0.89591114,\n",
       "       -0.7110623 , -0.11625176,  0.66155311,  0.20690022, -0.03016458,\n",
       "       -0.11073176, -0.46218401,  2.35867478, -1.16372502,  0.55436974,\n",
       "        0.12747241, -2.54702598, -0.66157457, -1.65181333, -0.34274407,\n",
       "        0.23524347,  0.40132972,  0.25064959, -0.78310348, -0.06352519])"
      ]
     },
     "execution_count": 37,
     "metadata": {},
     "output_type": "execute_result"
    }
   ],
   "source": [
    "X_train_all[0]"
   ]
  },
  {
   "cell_type": "code",
   "execution_count": 38,
   "metadata": {},
   "outputs": [
    {
     "data": {
      "text/plain": [
       "0.8700833333333333"
      ]
     },
     "execution_count": 38,
     "metadata": {},
     "output_type": "execute_result"
    }
   ],
   "source": [
    "clf = SVC(C=10)\n",
    "clf.fit(X_train_all, y_train)\n",
    "clf.score(X_test_all, y_test)"
   ]
  },
  {
   "cell_type": "code",
   "execution_count": 19,
   "metadata": {},
   "outputs": [
    {
     "data": {
      "text/plain": [
       "0.8886666666666667"
      ]
     },
     "execution_count": 19,
     "metadata": {},
     "output_type": "execute_result"
    }
   ],
   "source": [
    "clf = SVC(C=35)\n",
    "clf.fit(X_train_pca, y_train)\n",
    "clf.score(X_test_pca, y_test)"
   ]
  },
  {
   "cell_type": "code",
   "execution_count": null,
   "metadata": {},
   "outputs": [],
   "source": []
  }
 ],
 "metadata": {
  "kernelspec": {
   "display_name": "Python 3",
   "language": "python",
   "name": "python3"
  },
  "language_info": {
   "codemirror_mode": {
    "name": "ipython",
    "version": 3
   },
   "file_extension": ".py",
   "mimetype": "text/x-python",
   "name": "python",
   "nbconvert_exporter": "python",
   "pygments_lexer": "ipython3",
   "version": "3.7.6"
  }
 },
 "nbformat": 4,
 "nbformat_minor": 4
}
